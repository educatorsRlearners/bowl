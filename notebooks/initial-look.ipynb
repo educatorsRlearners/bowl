{
 "cells": [
  {
   "cell_type": "code",
   "execution_count": null,
   "metadata": {},
   "outputs": [],
   "source": [
    "import os\n",
    "\n",
    "!pip install matplotlib -q\n",
    "\n",
    "import pandas as pd"
   ]
  },
  {
   "cell_type": "markdown",
   "metadata": {},
   "source": [
    "## Data loading"
   ]
  },
  {
   "cell_type": "code",
   "execution_count": null,
   "metadata": {},
   "outputs": [],
   "source": [
    "!ls $HOME/ds-bowl-from-scratch/raw-data"
   ]
  },
  {
   "cell_type": "code",
   "execution_count": null,
   "metadata": {},
   "outputs": [],
   "source": [
    "home = os.environ['HOME']\n",
    "home"
   ]
  },
  {
   "cell_type": "code",
   "execution_count": null,
   "metadata": {},
   "outputs": [],
   "source": [
    "# os.path OR pathlib\n",
    "home = os.path.join(os.environ['HOME'], 'ds-bowl-from-scratch', 'raw-data')\n",
    "print(home)"
   ]
  },
  {
   "cell_type": "code",
   "execution_count": null,
   "metadata": {},
   "outputs": [],
   "source": [
    "os.listdir(home)"
   ]
  },
  {
   "cell_type": "code",
   "execution_count": null,
   "metadata": {},
   "outputs": [],
   "source": [
    "raw_data = {}\n",
    "\n",
    "for fi in os.listdir(home):\n",
    "    if 'csv' in fi:\n",
    "        print(fi)\n",
    "        raw_data[fi] = pd.read_csv(os.path.join(home, fi))"
   ]
  },
  {
   "cell_type": "markdown",
   "metadata": {},
   "source": [
    "## Basic data inspection\n",
    "\n",
    "Look at all csvs"
   ]
  },
  {
   "cell_type": "code",
   "execution_count": null,
   "metadata": {},
   "outputs": [],
   "source": [
    "for name, df in raw_data.items():\n",
    "    print(name, df.shape)\n",
    "    print(df.columns)\n",
    "    print(' ')"
   ]
  },
  {
   "cell_type": "markdown",
   "metadata": {},
   "source": [
    "## Inspection of the target\n",
    "\n",
    "Four classes"
   ]
  },
  {
   "cell_type": "code",
   "execution_count": null,
   "metadata": {},
   "outputs": [],
   "source": [
    "labels = raw_data['train_labels.csv']\n",
    "set(labels.loc[:, 'accuracy_group'])"
   ]
  },
  {
   "cell_type": "code",
   "execution_count": null,
   "metadata": {},
   "outputs": [],
   "source": [
    "labels.loc[:, 'accuracy_group'].hist()"
   ]
  },
  {
   "cell_type": "markdown",
   "metadata": {},
   "source": [
    "Number of installs"
   ]
  },
  {
   "cell_type": "code",
   "execution_count": null,
   "metadata": {},
   "outputs": [],
   "source": [
    "def inspect_df(data, csv):\n",
    "    \"\"\"\n",
    "    show unique values in all cols of a df \n",
    "    \n",
    "    data (dict)\n",
    "    csv (str)\n",
    "    \"\"\"\n",
    "    df = data[csv]\n",
    "    for col in df.columns:\n",
    "        print(col)\n",
    "        uniq = len(set(df.loc[:, col]))\n",
    "        print('num. uniques {}'.format(uniq))\n",
    "        print(uniq / df.shape[0])\n",
    "        print(' ')\n",
    "        \n",
    "inspect_df(raw_data, 'train_labels.csv')"
   ]
  },
  {
   "cell_type": "code",
   "execution_count": null,
   "metadata": {},
   "outputs": [],
   "source": [
    "raw_data.keys()"
   ]
  },
  {
   "cell_type": "markdown",
   "metadata": {},
   "source": [
    "## Event data\n",
    "\n",
    "`train_labels.csv` has the correct labels for some of our game sessions:"
   ]
  },
  {
   "cell_type": "code",
   "execution_count": null,
   "metadata": {},
   "outputs": [],
   "source": [
    "raw_data['train_labels.csv'].iloc[0, :]"
   ]
  },
  {
   "cell_type": "markdown",
   "metadata": {},
   "source": []
  },
  {
   "cell_type": "code",
   "execution_count": null,
   "metadata": {},
   "outputs": [],
   "source": [
    "def extract_game_session(data, idx):\n",
    "    \"\"\"Get info about a game_session from our labels, based on an int index\"\"\"\n",
    "    df = data['train_labels.csv']\n",
    "    row = df.iloc[idx, :]\n",
    "    assert row.loc['game_session'] in data['train.csv'].loc[:, 'game_session'].values\n",
    "    return row.to_dict()\n",
    "\n",
    "gs = extract_game_session(raw_data, 900)\n",
    "gs"
   ]
  },
  {
   "cell_type": "code",
   "execution_count": null,
   "metadata": {},
   "outputs": [],
   "source": [
    "import json\n",
    "\n",
    "def get_event_data(data, game_session_dict):\n",
    "    \"\"\" gets all the events for a given game session \n",
    "    \n",
    "    returns list of json\n",
    "    \"\"\"\n",
    "    df = data['train.csv']\n",
    "    sub = df[df.loc[:, 'game_session'] == game_session_dict['game_session']]\n",
    "    if 'Bird Measurer' in game_session_dict['title']:\n",
    "        code = 4110\n",
    "    else:\n",
    "        code = 4100\n",
    "        \n",
    "    out = list(sub[sub.loc[:, 'event_code'] == code].loc[:, 'event_data'])\n",
    "    \n",
    "    return [json.loads(j) for j in out]\n",
    "\n",
    "get_event_data(raw_data, gs)"
   ]
  },
  {
   "cell_type": "markdown",
   "metadata": {},
   "source": [
    "3: the assessment was solved on the first attempt\n",
    "\n",
    "2: the assessment was solved on the second attempt\n",
    "\n",
    "1: the assessment was solved after 3 or more attempts\n",
    "\n",
    "0: the assessment was never solved"
   ]
  },
  {
   "cell_type": "code",
   "execution_count": null,
   "metadata": {},
   "outputs": [],
   "source": [
    "def get_accuracy_label(corr, incorr):\n",
    "    \"\"\" labels based on the num correct & incorrect \"\"\"\n",
    "    corr = sum(corr)\n",
    "    incorr = sum(incorr)\n",
    "    \n",
    "    if corr == 1 and incorr == 0:\n",
    "        return 3\n",
    "    elif corr == 1 and incorr == 1:\n",
    "        return 2\n",
    "    elif corr == 1 and incorr >= 2:\n",
    "        return 1\n",
    "    else:\n",
    "        return 0\n",
    "    \n",
    "def test_get_acc():\n",
    "    \"\"\" test get_accuracy_label \"\"\"\n",
    "    corr, incorr = [1], [0]\n",
    "    expected = 3\n",
    "    assert get_accuracy_label(corr, incorr) == expected\n",
    "\n",
    "    corr, incorr = [0], [10]\n",
    "    expected = 0\n",
    "    assert get_accuracy_label(corr, incorr) == expected\n",
    "    \n",
    "test_get_acc()\n",
    "\n",
    "def extract_event_data(events):\n",
    "    \"\"\" turns list of json into num correct & incorrect\"\"\"\n",
    "    corr, incorr = [], []\n",
    "    for event in events:\n",
    "        if event['correct']:\n",
    "            corr.append(1)\n",
    "        else:\n",
    "            incorr.append(1)\n",
    "    return corr, incorr\n",
    "\n",
    "def check_labels(game_session_dict, event_data):\n",
    "    \"\"\" checks that the labels we generate are the same as in train_labels \"\"\"\n",
    "    corr, incorr = extract_event_data(event_data)\n",
    "    assert sum(corr) == game_session_dict['num_correct']\n",
    "    assert sum(incorr) == game_session_dict['num_incorrect']\n",
    "    label = get_accuracy_label(corr, incorr)\n",
    "    assert label == game_session_dict['accuracy_group']\n",
    "    \n",
    "check_labels(gs, event_data)"
   ]
  },
  {
   "cell_type": "markdown",
   "metadata": {},
   "source": [
    "### Check that our labelling is working by cross-check with `train_labels.csv`:"
   ]
  },
  {
   "cell_type": "code",
   "execution_count": null,
   "metadata": {},
   "outputs": [],
   "source": [
    "data = []\n",
    "for i in range(5):\n",
    "    gs = extract_game_session(raw_data, i)\n",
    "    out = get_event_data(raw_data, gs)\n",
    "    label = check_labels(gs, out)\n",
    "    \n",
    "    data.append({\n",
    "        'game_session': gs['game_session'],\n",
    "        'label': label\n",
    "    })"
   ]
  },
  {
   "cell_type": "markdown",
   "metadata": {},
   "source": [
    "### Label rows in train.csv that aren't labelled in `train_labels.csv`"
   ]
  },
  {
   "cell_type": "code",
   "execution_count": null,
   "metadata": {},
   "outputs": [],
   "source": [
    "data = []\n",
    "for row in range(5):\n",
    "    tr = raw_data['train.csv']\n",
    "    train_row = tr.iloc[row, :]\n",
    "    gs_id = {\n",
    "        'game_session': train_row.loc['game_session'],\n",
    "        'title': train_row.loc['title']\n",
    "    }\n",
    "    \n",
    "    event_data = get_event_data(raw_data, gs_id)\n",
    "    corr, incorr = extract_event_data(event_data)\n",
    "    label = get_accuracy_label(corr, incorr)\n",
    "    \n",
    "    data.append({\n",
    "        'game_session': gs['game_session'],\n",
    "        'label': label\n",
    "    })"
   ]
  },
  {
   "cell_type": "markdown",
   "metadata": {},
   "source": [
    "## Garbage below"
   ]
  },
  {
   "cell_type": "code",
   "execution_count": null,
   "metadata": {},
   "outputs": [],
   "source": [
    "import json\n",
    "\n",
    "json.loads(raw_data['train.csv'].loc[:, 'event_data'].iloc[1000])"
   ]
  },
  {
   "cell_type": "code",
   "execution_count": null,
   "metadata": {},
   "outputs": [],
   "source": [
    "raw_data['sample_submission.csv'].head()"
   ]
  },
  {
   "cell_type": "code",
   "execution_count": null,
   "metadata": {},
   "outputs": [],
   "source": [
    "len(set(raw_data['train_labels.csv'].loc[:, 'installation_id']))"
   ]
  },
  {
   "cell_type": "code",
   "execution_count": null,
   "metadata": {},
   "outputs": [],
   "source": [
    "raw_data['train.csv'].shape"
   ]
  },
  {
   "cell_type": "code",
   "execution_count": null,
   "metadata": {},
   "outputs": [],
   "source": [
    "len(set(raw_data['train.csv'].loc[:, 'game_session']))"
   ]
  },
  {
   "cell_type": "code",
   "execution_count": null,
   "metadata": {},
   "outputs": [],
   "source": [
    "len(set(raw_data['train.csv'].loc[:, 'installation_id']))"
   ]
  },
  {
   "cell_type": "code",
   "execution_count": null,
   "metadata": {},
   "outputs": [],
   "source": [
    "df = raw_data['train_labels.csv']\n",
    "\n",
    "mask = df['accuracy_group'] == 3\n",
    "mask = df.loc[:, 'accuracy_group'] == 3\n",
    "\n",
    "sub = df.loc[mask, :]\n",
    "\n",
    "sub.head()"
   ]
  },
  {
   "cell_type": "code",
   "execution_count": null,
   "metadata": {},
   "outputs": [],
   "source": [
    "set(sub.loc[:, 'num_correct'])"
   ]
  },
  {
   "cell_type": "code",
   "execution_count": null,
   "metadata": {},
   "outputs": [],
   "source": [
    "set(df.loc[:, 'num_correct'])"
   ]
  },
  {
   "cell_type": "code",
   "execution_count": null,
   "metadata": {},
   "outputs": [],
   "source": [
    "df.columns"
   ]
  },
  {
   "cell_type": "code",
   "execution_count": null,
   "metadata": {},
   "outputs": [],
   "source": [
    "df.head()"
   ]
  },
  {
   "cell_type": "code",
   "execution_count": null,
   "metadata": {},
   "outputs": [],
   "source": [
    "# hardness of games"
   ]
  },
  {
   "cell_type": "code",
   "execution_count": null,
   "metadata": {},
   "outputs": [],
   "source": [
    "!pip install seaborn -q\n",
    "import seaborn as sns\n",
    "\n",
    "sns.pairplot(data['train_labels.csv'])"
   ]
  },
  {
   "cell_type": "code",
   "execution_count": null,
   "metadata": {},
   "outputs": [],
   "source": [
    "mask = df['num_correct'] == 1\n",
    "\n",
    "mask"
   ]
  },
  {
   "cell_type": "code",
   "execution_count": null,
   "metadata": {},
   "outputs": [],
   "source": [
    "mask2 = df['num_incorrect'] > 0\n",
    "\n",
    "df.loc[mask & mask2, :].loc[:, 'num_incorrect'].hist()"
   ]
  },
  {
   "cell_type": "code",
   "execution_count": null,
   "metadata": {},
   "outputs": [],
   "source": [
    "max(df.loc[mask & mask2, :].loc[:, 'num_incorrect'])"
   ]
  },
  {
   "cell_type": "code",
   "execution_count": null,
   "metadata": {},
   "outputs": [],
   "source": []
  },
  {
   "cell_type": "code",
   "execution_count": null,
   "metadata": {},
   "outputs": [],
   "source": []
  },
  {
   "cell_type": "code",
   "execution_count": null,
   "metadata": {},
   "outputs": [],
   "source": []
  }
 ],
 "metadata": {
  "kernelspec": {
   "display_name": "Python 3",
   "language": "python",
   "name": "python3"
  },
  "language_info": {
   "codemirror_mode": {
    "name": "ipython",
    "version": 3
   },
   "file_extension": ".py",
   "mimetype": "text/x-python",
   "name": "python",
   "nbconvert_exporter": "python",
   "pygments_lexer": "ipython3",
   "version": "3.6.8"
  }
 },
 "nbformat": 4,
 "nbformat_minor": 4
}
