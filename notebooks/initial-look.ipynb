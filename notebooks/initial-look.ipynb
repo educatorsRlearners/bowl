{
 "cells": [
  {
   "cell_type": "code",
   "execution_count": 1,
   "metadata": {},
   "outputs": [],
   "source": [
    "import os\n",
    "\n",
    "!pip install matplotlib -q\n",
    "\n",
    "import pandas as pd"
   ]
  },
  {
   "cell_type": "markdown",
   "metadata": {},
   "source": [
    "## Data loading"
   ]
  },
  {
   "cell_type": "code",
   "execution_count": 2,
   "metadata": {},
   "outputs": [
    {
     "name": "stdout",
     "output_type": "stream",
     "text": [
      "sample_submission.csv test.csv              train_labels.csv\n",
      "specs.csv             train.csv\n"
     ]
    }
   ],
   "source": [
    "!ls $HOME/ds-bowl-from-scratch/raw-data"
   ]
  },
  {
   "cell_type": "code",
   "execution_count": 3,
   "metadata": {},
   "outputs": [
    {
     "data": {
      "text/plain": [
       "'/Users/adam'"
      ]
     },
     "execution_count": 3,
     "metadata": {},
     "output_type": "execute_result"
    }
   ],
   "source": [
    "home = os.environ['HOME']\n",
    "home"
   ]
  },
  {
   "cell_type": "code",
   "execution_count": 4,
   "metadata": {},
   "outputs": [
    {
     "name": "stdout",
     "output_type": "stream",
     "text": [
      "/Users/adam/ds-bowl-from-scratch/raw-data\n"
     ]
    }
   ],
   "source": [
    "# os.path OR pathlib\n",
    "home = os.path.join(os.environ['HOME'], 'ds-bowl-from-scratch', 'raw-data')\n",
    "print(home)"
   ]
  },
  {
   "cell_type": "code",
   "execution_count": 5,
   "metadata": {},
   "outputs": [
    {
     "data": {
      "text/plain": [
       "['train_labels.csv',\n",
       " 'test.csv',\n",
       " 'specs.csv',\n",
       " 'train.csv',\n",
       " 'sample_submission.csv']"
      ]
     },
     "execution_count": 5,
     "metadata": {},
     "output_type": "execute_result"
    }
   ],
   "source": [
    "os.listdir(home)"
   ]
  },
  {
   "cell_type": "code",
   "execution_count": 6,
   "metadata": {},
   "outputs": [
    {
     "name": "stdout",
     "output_type": "stream",
     "text": [
      "train_labels.csv\n",
      "test.csv\n",
      "specs.csv\n",
      "train.csv\n",
      "sample_submission.csv\n"
     ]
    }
   ],
   "source": [
    "raw_data = {}\n",
    "\n",
    "for fi in os.listdir(home):\n",
    "    if 'csv' in fi:\n",
    "        print(fi)\n",
    "        raw_data[fi] = pd.read_csv(os.path.join(home, fi))"
   ]
  },
  {
   "cell_type": "markdown",
   "metadata": {},
   "source": [
    "## Basic data inspection\n",
    "\n",
    "Look at all csvs"
   ]
  },
  {
   "cell_type": "code",
   "execution_count": 7,
   "metadata": {},
   "outputs": [
    {
     "name": "stdout",
     "output_type": "stream",
     "text": [
      "train_labels.csv (17690, 7)\n",
      "Index(['game_session', 'installation_id', 'title', 'num_correct', 'num_incorrect', 'accuracy', 'accuracy_group'], dtype='object')\n",
      " \n",
      "test.csv (1156414, 11)\n",
      "Index(['event_id', 'game_session', 'timestamp', 'event_data', 'installation_id', 'event_count', 'event_code', 'game_time', 'title', 'type', 'world'], dtype='object')\n",
      " \n",
      "specs.csv (386, 3)\n",
      "Index(['event_id', 'info', 'args'], dtype='object')\n",
      " \n",
      "train.csv (11341042, 11)\n",
      "Index(['event_id', 'game_session', 'timestamp', 'event_data', 'installation_id', 'event_count', 'event_code', 'game_time', 'title', 'type', 'world'], dtype='object')\n",
      " \n",
      "sample_submission.csv (1000, 2)\n",
      "Index(['installation_id', 'accuracy_group'], dtype='object')\n",
      " \n"
     ]
    }
   ],
   "source": [
    "for name, df in raw_data.items():\n",
    "    print(name, df.shape)\n",
    "    print(df.columns)\n",
    "    print(' ')"
   ]
  },
  {
   "cell_type": "markdown",
   "metadata": {},
   "source": [
    "## Inspection of the target\n",
    "\n",
    "Four classes"
   ]
  },
  {
   "cell_type": "code",
   "execution_count": 8,
   "metadata": {},
   "outputs": [
    {
     "data": {
      "text/plain": [
       "{0, 1, 2, 3}"
      ]
     },
     "execution_count": 8,
     "metadata": {},
     "output_type": "execute_result"
    }
   ],
   "source": [
    "labels = raw_data['train_labels.csv']\n",
    "set(labels.loc[:, 'accuracy_group'])"
   ]
  },
  {
   "cell_type": "code",
   "execution_count": 9,
   "metadata": {},
   "outputs": [
    {
     "data": {
      "text/plain": [
       "<matplotlib.axes._subplots.AxesSubplot at 0x226047f28>"
      ]
     },
     "execution_count": 9,
     "metadata": {},
     "output_type": "execute_result"
    },
    {
     "data": {
      "image/png": "[encoded data removed]",
      "text/plain": [
       "<Figure size 432x288 with 1 Axes>"
      ]
     },
     "metadata": {
      "needs_background": "light"
     },
     "output_type": "display_data"
    }
   ],
   "source": [
    "labels.loc[:, 'accuracy_group'].hist()"
   ]
  },
  {
   "cell_type": "markdown",
   "metadata": {},
   "source": [
    "Number of installs"
   ]
  },
  {
   "cell_type": "code",
   "execution_count": 10,
   "metadata": {},
   "outputs": [
    {
     "name": "stdout",
     "output_type": "stream",
     "text": [
      "game_session\n",
      "num. uniques 17690\n",
      "1.0\n",
      " \n",
      "installation_id\n",
      "num. uniques 3614\n",
      "0.20429621254946298\n",
      " \n",
      "title\n",
      "num. uniques 5\n",
      "0.0002826455624646693\n",
      " \n",
      "num_correct\n",
      "num. uniques 2\n",
      "0.00011305822498586772\n",
      " \n",
      "num_incorrect\n",
      "num. uniques 46\n",
      "0.0026003391746749578\n",
      " \n",
      "accuracy\n",
      "num. uniques 30\n",
      "0.0016958733747880158\n",
      " \n",
      "accuracy_group\n",
      "num. uniques 4\n",
      "0.00022611644997173544\n",
      " \n"
     ]
    }
   ],
   "source": [
    "def inspect_df(data, csv):\n",
    "    \"\"\"\n",
    "    show unique values in all cols of a df \n",
    "    \n",
    "    data (dict)\n",
    "    csv (str)\n",
    "    \"\"\"\n",
    "    df = data[csv]\n",
    "    for col in df.columns:\n",
    "        print(col)\n",
    "        uniq = len(set(df.loc[:, col]))\n",
    "        print('num. uniques {}'.format(uniq))\n",
    "        print(uniq / df.shape[0])\n",
    "        print(' ')\n",
    "        \n",
    "inspect_df(raw_data, 'train_labels.csv')"
   ]
  },
  {
   "cell_type": "code",
   "execution_count": 11,
   "metadata": {},
   "outputs": [
    {
     "data": {
      "text/plain": [
       "dict_keys(['train_labels.csv', 'test.csv', 'specs.csv', 'train.csv', 'sample_submission.csv'])"
      ]
     },
     "execution_count": 11,
     "metadata": {},
     "output_type": "execute_result"
    }
   ],
   "source": [
    "raw_data.keys()"
   ]
  },
  {
   "cell_type": "markdown",
   "metadata": {},
   "source": [
    "## Event code\n",
    "\n",
    "The file train_labels.csv has been provided to show how these groups would be computed on the assessments in the training set. Assessment attempts are captured in event_code 4100 for all assessments except for Bird Measurer, which uses event_code 4110. If the attempt was correct, it contains \"correct\":true."
   ]
  },
  {
   "cell_type": "code",
   "execution_count": 12,
   "metadata": {},
   "outputs": [
    {
     "data": {
      "text/html": [
       "<div>\n",
       "<style scoped>\n",
       "    .dataframe tbody tr th:only-of-type {\n",
       "        vertical-align: middle;\n",
       "    }\n",
       "\n",
       "    .dataframe tbody tr th {\n",
       "        vertical-align: top;\n",
       "    }\n",
       "\n",
       "    .dataframe thead th {\n",
       "        text-align: right;\n",
       "    }\n",
       "</style>\n",
       "<table border=\"1\" class=\"dataframe\">\n",
       "  <thead>\n",
       "    <tr style=\"text-align: right;\">\n",
       "      <th></th>\n",
       "      <th>event_id</th>\n",
       "      <th>game_session</th>\n",
       "      <th>timestamp</th>\n",
       "      <th>event_data</th>\n",
       "      <th>installation_id</th>\n",
       "      <th>event_count</th>\n",
       "      <th>event_code</th>\n",
       "      <th>game_time</th>\n",
       "      <th>title</th>\n",
       "      <th>type</th>\n",
       "      <th>world</th>\n",
       "    </tr>\n",
       "  </thead>\n",
       "  <tbody>\n",
       "    <tr>\n",
       "      <th>0</th>\n",
       "      <td>27253bdc</td>\n",
       "      <td>45bb1e1b6b50c07b</td>\n",
       "      <td>2019-09-06T17:53:46.937Z</td>\n",
       "      <td>{\"event_code\": 2000, \"event_count\": 1}</td>\n",
       "      <td>0001e90f</td>\n",
       "      <td>1</td>\n",
       "      <td>2000</td>\n",
       "      <td>0</td>\n",
       "      <td>Welcome to Lost Lagoon!</td>\n",
       "      <td>Clip</td>\n",
       "      <td>NONE</td>\n",
       "    </tr>\n",
       "    <tr>\n",
       "      <th>1</th>\n",
       "      <td>27253bdc</td>\n",
       "      <td>17eeb7f223665f53</td>\n",
       "      <td>2019-09-06T17:54:17.519Z</td>\n",
       "      <td>{\"event_code\": 2000, \"event_count\": 1}</td>\n",
       "      <td>0001e90f</td>\n",
       "      <td>1</td>\n",
       "      <td>2000</td>\n",
       "      <td>0</td>\n",
       "      <td>Magma Peak - Level 1</td>\n",
       "      <td>Clip</td>\n",
       "      <td>MAGMAPEAK</td>\n",
       "    </tr>\n",
       "    <tr>\n",
       "      <th>2</th>\n",
       "      <td>77261ab5</td>\n",
       "      <td>0848ef14a8dc6892</td>\n",
       "      <td>2019-09-06T17:54:56.302Z</td>\n",
       "      <td>{\"version\":\"1.0\",\"event_count\":1,\"game_time\":0...</td>\n",
       "      <td>0001e90f</td>\n",
       "      <td>1</td>\n",
       "      <td>2000</td>\n",
       "      <td>0</td>\n",
       "      <td>Sandcastle Builder (Activity)</td>\n",
       "      <td>Activity</td>\n",
       "      <td>MAGMAPEAK</td>\n",
       "    </tr>\n",
       "    <tr>\n",
       "      <th>3</th>\n",
       "      <td>b2dba42b</td>\n",
       "      <td>0848ef14a8dc6892</td>\n",
       "      <td>2019-09-06T17:54:56.387Z</td>\n",
       "      <td>{\"description\":\"Let's build a sandcastle! Firs...</td>\n",
       "      <td>0001e90f</td>\n",
       "      <td>2</td>\n",
       "      <td>3010</td>\n",
       "      <td>53</td>\n",
       "      <td>Sandcastle Builder (Activity)</td>\n",
       "      <td>Activity</td>\n",
       "      <td>MAGMAPEAK</td>\n",
       "    </tr>\n",
       "    <tr>\n",
       "      <th>4</th>\n",
       "      <td>1bb5fbdb</td>\n",
       "      <td>0848ef14a8dc6892</td>\n",
       "      <td>2019-09-06T17:55:03.253Z</td>\n",
       "      <td>{\"description\":\"Let's build a sandcastle! Firs...</td>\n",
       "      <td>0001e90f</td>\n",
       "      <td>3</td>\n",
       "      <td>3110</td>\n",
       "      <td>6972</td>\n",
       "      <td>Sandcastle Builder (Activity)</td>\n",
       "      <td>Activity</td>\n",
       "      <td>MAGMAPEAK</td>\n",
       "    </tr>\n",
       "    <tr>\n",
       "      <th>...</th>\n",
       "      <td>...</td>\n",
       "      <td>...</td>\n",
       "      <td>...</td>\n",
       "      <td>...</td>\n",
       "      <td>...</td>\n",
       "      <td>...</td>\n",
       "      <td>...</td>\n",
       "      <td>...</td>\n",
       "      <td>...</td>\n",
       "      <td>...</td>\n",
       "      <td>...</td>\n",
       "    </tr>\n",
       "    <tr>\n",
       "      <th>11341037</th>\n",
       "      <td>ab3136ba</td>\n",
       "      <td>c09b94eebfdf50a6</td>\n",
       "      <td>2019-10-10T15:11:15.584Z</td>\n",
       "      <td>{\"description\":\"Tap another dinosaur.\",\"identi...</td>\n",
       "      <td>fffc0583</td>\n",
       "      <td>66</td>\n",
       "      <td>3110</td>\n",
       "      <td>118615</td>\n",
       "      <td>Dino Dive</td>\n",
       "      <td>Game</td>\n",
       "      <td>MAGMAPEAK</td>\n",
       "    </tr>\n",
       "    <tr>\n",
       "      <th>11341038</th>\n",
       "      <td>27253bdc</td>\n",
       "      <td>6ad8ab25003ef1b0</td>\n",
       "      <td>2019-10-10T15:12:17.364Z</td>\n",
       "      <td>{\"event_code\": 2000, \"event_count\": 1}</td>\n",
       "      <td>fffc0583</td>\n",
       "      <td>1</td>\n",
       "      <td>2000</td>\n",
       "      <td>0</td>\n",
       "      <td>Crystal Caves - Level 2</td>\n",
       "      <td>Clip</td>\n",
       "      <td>CRYSTALCAVES</td>\n",
       "    </tr>\n",
       "    <tr>\n",
       "      <th>11341039</th>\n",
       "      <td>27253bdc</td>\n",
       "      <td>71904dca23b982c6</td>\n",
       "      <td>2019-10-10T15:13:04.713Z</td>\n",
       "      <td>{\"event_code\": 2000, \"event_count\": 1}</td>\n",
       "      <td>fffc0583</td>\n",
       "      <td>1</td>\n",
       "      <td>2000</td>\n",
       "      <td>0</td>\n",
       "      <td>Crystal Caves - Level 3</td>\n",
       "      <td>Clip</td>\n",
       "      <td>CRYSTALCAVES</td>\n",
       "    </tr>\n",
       "    <tr>\n",
       "      <th>11341040</th>\n",
       "      <td>27253bdc</td>\n",
       "      <td>2267b18f069e875a</td>\n",
       "      <td>2019-10-10T15:13:54.545Z</td>\n",
       "      <td>{\"event_code\": 2000, \"event_count\": 1}</td>\n",
       "      <td>fffc0583</td>\n",
       "      <td>1</td>\n",
       "      <td>2000</td>\n",
       "      <td>0</td>\n",
       "      <td>Crystal Caves - Level 3</td>\n",
       "      <td>Clip</td>\n",
       "      <td>CRYSTALCAVES</td>\n",
       "    </tr>\n",
       "    <tr>\n",
       "      <th>11341041</th>\n",
       "      <td>27253bdc</td>\n",
       "      <td>f31950f549d7c242</td>\n",
       "      <td>2019-10-10T15:15:12.483Z</td>\n",
       "      <td>{\"event_code\": 2000, \"event_count\": 1}</td>\n",
       "      <td>fffc0583</td>\n",
       "      <td>1</td>\n",
       "      <td>2000</td>\n",
       "      <td>0</td>\n",
       "      <td>Tree Top City - Level 2</td>\n",
       "      <td>Clip</td>\n",
       "      <td>TREETOPCITY</td>\n",
       "    </tr>\n",
       "  </tbody>\n",
       "</table>\n",
       "<p>11341042 rows × 11 columns</p>\n",
       "</div>"
      ],
      "text/plain": [
       "          event_id      game_session                 timestamp                                         event_data installation_id  event_count  event_code  game_time                          title      type         world\n",
       "0         27253bdc  45bb1e1b6b50c07b  2019-09-06T17:53:46.937Z             {\"event_code\": 2000, \"event_count\": 1}        0001e90f            1        2000          0        Welcome to Lost Lagoon!      Clip          NONE\n",
       "1         27253bdc  17eeb7f223665f53  2019-09-06T17:54:17.519Z             {\"event_code\": 2000, \"event_count\": 1}        0001e90f            1        2000          0           Magma Peak - Level 1      Clip     MAGMAPEAK\n",
       "2         77261ab5  0848ef14a8dc6892  2019-09-06T17:54:56.302Z  {\"version\":\"1.0\",\"event_count\":1,\"game_time\":0...        0001e90f            1        2000          0  Sandcastle Builder (Activity)  Activity     MAGMAPEAK\n",
       "3         b2dba42b  0848ef14a8dc6892  2019-09-06T17:54:56.387Z  {\"description\":\"Let's build a sandcastle! Firs...        0001e90f            2        3010         53  Sandcastle Builder (Activity)  Activity     MAGMAPEAK\n",
       "4         1bb5fbdb  0848ef14a8dc6892  2019-09-06T17:55:03.253Z  {\"description\":\"Let's build a sandcastle! Firs...        0001e90f            3        3110       6972  Sandcastle Builder (Activity)  Activity     MAGMAPEAK\n",
       "...            ...               ...                       ...                                                ...             ...          ...         ...        ...                            ...       ...           ...\n",
       "11341037  ab3136ba  c09b94eebfdf50a6  2019-10-10T15:11:15.584Z  {\"description\":\"Tap another dinosaur.\",\"identi...        fffc0583           66        3110     118615                      Dino Dive      Game     MAGMAPEAK\n",
       "11341038  27253bdc  6ad8ab25003ef1b0  2019-10-10T15:12:17.364Z             {\"event_code\": 2000, \"event_count\": 1}        fffc0583            1        2000          0        Crystal Caves - Level 2      Clip  CRYSTALCAVES\n",
       "11341039  27253bdc  71904dca23b982c6  2019-10-10T15:13:04.713Z             {\"event_code\": 2000, \"event_count\": 1}        fffc0583            1        2000          0        Crystal Caves - Level 3      Clip  CRYSTALCAVES\n",
       "11341040  27253bdc  2267b18f069e875a  2019-10-10T15:13:54.545Z             {\"event_code\": 2000, \"event_count\": 1}        fffc0583            1        2000          0        Crystal Caves - Level 3      Clip  CRYSTALCAVES\n",
       "11341041  27253bdc  f31950f549d7c242  2019-10-10T15:15:12.483Z             {\"event_code\": 2000, \"event_count\": 1}        fffc0583            1        2000          0        Tree Top City - Level 2      Clip   TREETOPCITY\n",
       "\n",
       "[11341042 rows x 11 columns]"
      ]
     },
     "execution_count": 12,
     "metadata": {},
     "output_type": "execute_result"
    }
   ],
   "source": [
    "raw_data['train.csv']"
   ]
  },
  {
   "cell_type": "code",
   "execution_count": 13,
   "metadata": {},
   "outputs": [
    {
     "data": {
      "text/plain": [
       "game_session                   6bdf9623adc94d89\n",
       "installation_id                        0006a69f\n",
       "title              Mushroom Sorter (Assessment)\n",
       "num_correct                                   1\n",
       "num_incorrect                                 0\n",
       "accuracy                                      1\n",
       "accuracy_group                                3\n",
       "Name: 0, dtype: object"
      ]
     },
     "execution_count": 13,
     "metadata": {},
     "output_type": "execute_result"
    }
   ],
   "source": [
    "raw_data['train_labels.csv'].iloc[0, :]"
   ]
  },
  {
   "cell_type": "code",
   "execution_count": 17,
   "metadata": {},
   "outputs": [
    {
     "data": {
      "text/plain": [
       "{'game_session': '0bca967cb0dcc005',\n",
       " 'installation_id': '0cc2a247',\n",
       " 'title': 'Cart Balancer (Assessment)',\n",
       " 'num_correct': 1,\n",
       " 'num_incorrect': 0,\n",
       " 'accuracy': 1.0,\n",
       " 'accuracy_group': 3}"
      ]
     },
     "execution_count": 17,
     "metadata": {},
     "output_type": "execute_result"
    }
   ],
   "source": [
    "def extract_game_session(data, idx):\n",
    "    df = data['train_labels.csv']\n",
    "    row = df.iloc[idx, :]\n",
    "    return row.to_dict()\n",
    "\n",
    "gs = extract_game_session(raw_data, 1000)\n",
    "gs"
   ]
  },
  {
   "cell_type": "code",
   "execution_count": 23,
   "metadata": {},
   "outputs": [
    {
     "data": {
      "text/plain": [
       "[{'correct': True,\n",
       "  'left': [{'id': 'gem05', 'weight': 4},\n",
       "   {'id': 'gem01', 'weight': 1},\n",
       "   {'id': 'gem03', 'weight': 3},\n",
       "   {'id': 'gem07', 'weight': 6}],\n",
       "  'right': [{'id': 'gem06', 'weight': 4},\n",
       "   {'id': 'gem02', 'weight': 1},\n",
       "   {'id': 'gem04', 'weight': 3},\n",
       "   {'id': 'gem08', 'weight': 6}],\n",
       "  'event_count': 23,\n",
       "  'game_time': 28667,\n",
       "  'event_code': 4100}]"
      ]
     },
     "execution_count": 23,
     "metadata": {},
     "output_type": "execute_result"
    }
   ],
   "source": [
    "import json\n",
    "def get_event_data(data, game_session_dict):\n",
    "    df = data['train.csv']\n",
    "    sub = df[df.loc[:, 'game_session'] == game_session_dict['game_session']]\n",
    "    if 'Bird Measurer' in game_session_dict['title']:\n",
    "        code = 4110\n",
    "    else:\n",
    "        code = 4100\n",
    "        \n",
    "    out = list(sub[sub.loc[:, 'event_code'] == code].loc[:, 'event_data'])\n",
    "    \n",
    "    return [json.loads(j) for j in out]\n",
    "\n",
    "event_data = get_event_data(raw_data, gs)\n",
    "\n",
    "event_data"
   ]
  },
  {
   "cell_type": "code",
   "execution_count": 27,
   "metadata": {},
   "outputs": [
    {
     "data": {
      "text/plain": [
       "{'game_session': '0bca967cb0dcc005',\n",
       " 'installation_id': '0cc2a247',\n",
       " 'title': 'Cart Balancer (Assessment)',\n",
       " 'num_correct': 1,\n",
       " 'num_incorrect': 0,\n",
       " 'accuracy': 1.0,\n",
       " 'accuracy_group': 3}"
      ]
     },
     "execution_count": 27,
     "metadata": {},
     "output_type": "execute_result"
    }
   ],
   "source": [
    "gs"
   ]
  },
  {
   "cell_type": "code",
   "execution_count": 29,
   "metadata": {},
   "outputs": [
    {
     "data": {
      "text/plain": [
       "True"
      ]
     },
     "execution_count": 29,
     "metadata": {},
     "output_type": "execute_result"
    }
   ],
   "source": [
    "event['correct']"
   ]
  },
  {
   "cell_type": "code",
   "execution_count": 33,
   "metadata": {},
   "outputs": [
    {
     "data": {
      "text/plain": [
       "[1]"
      ]
     },
     "execution_count": 33,
     "metadata": {},
     "output_type": "execute_result"
    }
   ],
   "source": [
    "# def check_labels(game_session_dict, event_data)\n",
    "game_session_dict = gs\n",
    "corr, incorr = [], []\n",
    "for event in event_data:\n",
    "    if event['correct']:\n",
    "        corr.append(1)\n",
    "    else:\n",
    "        incorr.append(1)\n",
    "        \n",
    "assert sum(corr) == game_session_dict['num_correct']\n",
    "assert sum(incorr) == game_session_dict['num_incorrect']\n",
    "\n",
    "corr"
   ]
  },
  {
   "cell_type": "code",
   "execution_count": null,
   "metadata": {},
   "outputs": [],
   "source": [
    "for i in range(10):\n",
    "    gs = extract_game_session(raw_data, i)\n",
    "    out = get_event_data(raw_data, gs)\n",
    "    \n",
    "    if out.shape[0] > 1:\n",
    "        break"
   ]
  },
  {
   "cell_type": "code",
   "execution_count": null,
   "metadata": {},
   "outputs": [],
   "source": []
  },
  {
   "cell_type": "code",
   "execution_count": null,
   "metadata": {},
   "outputs": [],
   "source": [
    "import json\n",
    "\n",
    "json.loads(raw_data['train.csv'].loc[:, 'event_data'].iloc[1000])"
   ]
  },
  {
   "cell_type": "code",
   "execution_count": null,
   "metadata": {},
   "outputs": [],
   "source": [
    "raw_data['sample_submission.csv'].head()"
   ]
  },
  {
   "cell_type": "code",
   "execution_count": null,
   "metadata": {},
   "outputs": [],
   "source": [
    "len(set(raw_data['train_labels.csv'].loc[:, 'installation_id']))"
   ]
  },
  {
   "cell_type": "code",
   "execution_count": null,
   "metadata": {},
   "outputs": [],
   "source": [
    "raw_data['train.csv'].shape"
   ]
  },
  {
   "cell_type": "code",
   "execution_count": null,
   "metadata": {},
   "outputs": [],
   "source": [
    "len(set(raw_data['train.csv'].loc[:, 'game_session']))"
   ]
  },
  {
   "cell_type": "code",
   "execution_count": null,
   "metadata": {},
   "outputs": [],
   "source": [
    "len(set(raw_data['train.csv'].loc[:, 'installation_id']))"
   ]
  },
  {
   "cell_type": "code",
   "execution_count": null,
   "metadata": {},
   "outputs": [],
   "source": [
    "df = raw_data['train_labels.csv']\n",
    "\n",
    "mask = df['accuracy_group'] == 3\n",
    "mask = df.loc[:, 'accuracy_group'] == 3\n",
    "\n",
    "sub = df.loc[mask, :]\n",
    "\n",
    "sub.head()"
   ]
  },
  {
   "cell_type": "code",
   "execution_count": null,
   "metadata": {},
   "outputs": [],
   "source": [
    "set(sub.loc[:, 'num_correct'])"
   ]
  },
  {
   "cell_type": "code",
   "execution_count": null,
   "metadata": {},
   "outputs": [],
   "source": [
    "set(df.loc[:, 'num_correct'])"
   ]
  },
  {
   "cell_type": "code",
   "execution_count": null,
   "metadata": {},
   "outputs": [],
   "source": [
    "df.columns"
   ]
  },
  {
   "cell_type": "code",
   "execution_count": null,
   "metadata": {},
   "outputs": [],
   "source": [
    "df.head()"
   ]
  },
  {
   "cell_type": "code",
   "execution_count": null,
   "metadata": {},
   "outputs": [],
   "source": [
    "# hardness of games"
   ]
  },
  {
   "cell_type": "code",
   "execution_count": null,
   "metadata": {},
   "outputs": [],
   "source": [
    "!pip install seaborn -q\n",
    "import seaborn as sns\n",
    "\n",
    "sns.pairplot(data['train_labels.csv'])"
   ]
  },
  {
   "cell_type": "code",
   "execution_count": null,
   "metadata": {},
   "outputs": [],
   "source": [
    "mask = df['num_correct'] == 1\n",
    "\n",
    "mask"
   ]
  },
  {
   "cell_type": "code",
   "execution_count": null,
   "metadata": {},
   "outputs": [],
   "source": [
    "mask2 = df['num_incorrect'] > 0\n",
    "\n",
    "df.loc[mask & mask2, :].loc[:, 'num_incorrect'].hist()"
   ]
  },
  {
   "cell_type": "code",
   "execution_count": null,
   "metadata": {},
   "outputs": [],
   "source": [
    "max(df.loc[mask & mask2, :].loc[:, 'num_incorrect'])"
   ]
  },
  {
   "cell_type": "code",
   "execution_count": null,
   "metadata": {},
   "outputs": [],
   "source": []
  },
  {
   "cell_type": "code",
   "execution_count": null,
   "metadata": {},
   "outputs": [],
   "source": []
  },
  {
   "cell_type": "code",
   "execution_count": null,
   "metadata": {},
   "outputs": [],
   "source": []
  }
 ],
 "metadata": {
  "kernelspec": {
   "display_name": "Python 3",
   "language": "python",
   "name": "python3"
  },
  "language_info": {
   "codemirror_mode": {
    "name": "ipython",
    "version": 3
   },
   "file_extension": ".py",
   "mimetype": "text/x-python",
   "name": "python",
   "nbconvert_exporter": "python",
   "pygments_lexer": "ipython3",
   "version": "3.6.8"
  }
 },
 "nbformat": 4,
 "nbformat_minor": 4
}
