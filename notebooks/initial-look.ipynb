{
 "cells": [
  {
   "cell_type": "code",
   "execution_count": 1,
   "metadata": {},
   "outputs": [],
   "source": [
    "import os\n",
    "\n",
    "!pip install matplotlib -q\n",
    "\n",
    "import pandas as pd"
   ]
  },
  {
   "cell_type": "markdown",
   "metadata": {},
   "source": [
    "## Data loading"
   ]
  },
  {
   "cell_type": "code",
   "execution_count": 2,
   "metadata": {},
   "outputs": [
    {
     "name": "stdout",
     "output_type": "stream",
     "text": [
      "sample_submission.csv test.csv              train_labels.csv\n",
      "specs.csv             train.csv\n"
     ]
    }
   ],
   "source": [
    "!ls $HOME/ds-bowl-from-scratch/raw-data"
   ]
  },
  {
   "cell_type": "code",
   "execution_count": 3,
   "metadata": {},
   "outputs": [
    {
     "data": {
      "text/plain": [
       "'/Users/adam'"
      ]
     },
     "execution_count": 3,
     "metadata": {},
     "output_type": "execute_result"
    }
   ],
   "source": [
    "home = os.environ['HOME']\n",
    "home"
   ]
  },
  {
   "cell_type": "code",
   "execution_count": 4,
   "metadata": {},
   "outputs": [
    {
     "name": "stdout",
     "output_type": "stream",
     "text": [
      "/Users/adam/ds-bowl-from-scratch/raw-data\n"
     ]
    }
   ],
   "source": [
    "# os.path OR pathlib\n",
    "home = os.path.join(os.environ['HOME'], 'ds-bowl-from-scratch', 'raw-data')\n",
    "print(home)"
   ]
  },
  {
   "cell_type": "code",
   "execution_count": 5,
   "metadata": {},
   "outputs": [
    {
     "data": {
      "text/plain": [
       "['train_labels.csv',\n",
       " 'test.csv',\n",
       " 'specs.csv',\n",
       " 'train.csv',\n",
       " 'sample_submission.csv']"
      ]
     },
     "execution_count": 5,
     "metadata": {},
     "output_type": "execute_result"
    }
   ],
   "source": [
    "os.listdir(home)"
   ]
  },
  {
   "cell_type": "code",
   "execution_count": 6,
   "metadata": {},
   "outputs": [
    {
     "name": "stdout",
     "output_type": "stream",
     "text": [
      "train_labels.csv\n",
      "test.csv\n",
      "specs.csv\n",
      "train.csv\n",
      "sample_submission.csv\n"
     ]
    }
   ],
   "source": [
    "raw_data = {}\n",
    "\n",
    "for fi in os.listdir(home):\n",
    "    if 'csv' in fi:\n",
    "        print(fi)\n",
    "        raw_data[fi] = pd.read_csv(os.path.join(home, fi))"
   ]
  },
  {
   "cell_type": "markdown",
   "metadata": {},
   "source": [
    "## Basic data inspection\n",
    "\n",
    "Look at all csvs"
   ]
  },
  {
   "cell_type": "code",
   "execution_count": 7,
   "metadata": {},
   "outputs": [
    {
     "name": "stdout",
     "output_type": "stream",
     "text": [
      "train_labels.csv (17690, 7)\n",
      "Index(['game_session', 'installation_id', 'title', 'num_correct', 'num_incorrect', 'accuracy', 'accuracy_group'], dtype='object')\n",
      " \n",
      "test.csv (1156414, 11)\n",
      "Index(['event_id', 'game_session', 'timestamp', 'event_data', 'installation_id', 'event_count', 'event_code', 'game_time', 'title', 'type', 'world'], dtype='object')\n",
      " \n",
      "specs.csv (386, 3)\n",
      "Index(['event_id', 'info', 'args'], dtype='object')\n",
      " \n",
      "train.csv (11341042, 11)\n",
      "Index(['event_id', 'game_session', 'timestamp', 'event_data', 'installation_id', 'event_count', 'event_code', 'game_time', 'title', 'type', 'world'], dtype='object')\n",
      " \n",
      "sample_submission.csv (1000, 2)\n",
      "Index(['installation_id', 'accuracy_group'], dtype='object')\n",
      " \n"
     ]
    }
   ],
   "source": [
    "for name, df in raw_data.items():\n",
    "    print(name, df.shape)\n",
    "    print(df.columns)\n",
    "    print(' ')"
   ]
  },
  {
   "cell_type": "markdown",
   "metadata": {},
   "source": [
    "## Inspection of the target\n",
    "\n",
    "Four classes"
   ]
  },
  {
   "cell_type": "code",
   "execution_count": 8,
   "metadata": {},
   "outputs": [
    {
     "data": {
      "text/plain": [
       "{0, 1, 2, 3}"
      ]
     },
     "execution_count": 8,
     "metadata": {},
     "output_type": "execute_result"
    }
   ],
   "source": [
    "labels = raw_data['train_labels.csv']\n",
    "set(labels.loc[:, 'accuracy_group'])"
   ]
  },
  {
   "cell_type": "code",
   "execution_count": 9,
   "metadata": {},
   "outputs": [
    {
     "data": {
      "text/plain": [
       "<matplotlib.axes._subplots.AxesSubplot at 0x22faafe80>"
      ]
     },
     "execution_count": 9,
     "metadata": {},
     "output_type": "execute_result"
    },
    {
     "data": {
      "image/png": "[encoded data removed]",
      "text/plain": [
       "<Figure size 432x288 with 1 Axes>"
      ]
     },
     "metadata": {
      "needs_background": "light"
     },
     "output_type": "display_data"
    }
   ],
   "source": [
    "labels.loc[:, 'accuracy_group'].hist()"
   ]
  },
  {
   "cell_type": "markdown",
   "metadata": {},
   "source": [
    "Number of installs"
   ]
  },
  {
   "cell_type": "code",
   "execution_count": 10,
   "metadata": {},
   "outputs": [
    {
     "name": "stdout",
     "output_type": "stream",
     "text": [
      "game_session\n",
      "num. uniques 17690\n",
      "1.0\n",
      " \n",
      "installation_id\n",
      "num. uniques 3614\n",
      "0.20429621254946298\n",
      " \n",
      "title\n",
      "num. uniques 5\n",
      "0.0002826455624646693\n",
      " \n",
      "num_correct\n",
      "num. uniques 2\n",
      "0.00011305822498586772\n",
      " \n",
      "num_incorrect\n",
      "num. uniques 46\n",
      "0.0026003391746749578\n",
      " \n",
      "accuracy\n",
      "num. uniques 30\n",
      "0.0016958733747880158\n",
      " \n",
      "accuracy_group\n",
      "num. uniques 4\n",
      "0.00022611644997173544\n",
      " \n"
     ]
    }
   ],
   "source": [
    "def inspect_df(data, csv):\n",
    "    \"\"\"\n",
    "    show unique values in all cols of a df \n",
    "    \n",
    "    data (dict)\n",
    "    csv (str)\n",
    "    \"\"\"\n",
    "    df = data[csv]\n",
    "    for col in df.columns:\n",
    "        print(col)\n",
    "        uniq = len(set(df.loc[:, col]))\n",
    "        print('num. uniques {}'.format(uniq))\n",
    "        print(uniq / df.shape[0])\n",
    "        print(' ')\n",
    "        \n",
    "inspect_df(raw_data, 'train_labels.csv')"
   ]
  },
  {
   "cell_type": "code",
   "execution_count": 11,
   "metadata": {},
   "outputs": [
    {
     "data": {
      "text/plain": [
       "dict_keys(['train_labels.csv', 'test.csv', 'specs.csv', 'train.csv', 'sample_submission.csv'])"
      ]
     },
     "execution_count": 11,
     "metadata": {},
     "output_type": "execute_result"
    }
   ],
   "source": [
    "raw_data.keys()"
   ]
  },
  {
   "cell_type": "markdown",
   "metadata": {},
   "source": [
    "## Event data"
   ]
  },
  {
   "cell_type": "code",
   "execution_count": 12,
   "metadata": {},
   "outputs": [
    {
     "data": {
      "text/plain": [
       "game_session                   6bdf9623adc94d89\n",
       "installation_id                        0006a69f\n",
       "title              Mushroom Sorter (Assessment)\n",
       "num_correct                                   1\n",
       "num_incorrect                                 0\n",
       "accuracy                                      1\n",
       "accuracy_group                                3\n",
       "Name: 0, dtype: object"
      ]
     },
     "execution_count": 12,
     "metadata": {},
     "output_type": "execute_result"
    }
   ],
   "source": [
    "raw_data['train_labels.csv'].iloc[0, :]"
   ]
  },
  {
   "cell_type": "code",
   "execution_count": 47,
   "metadata": {},
   "outputs": [
    {
     "data": {
      "text/plain": [
       "{'game_session': '0bca967cb0dcc005',\n",
       " 'installation_id': '0cc2a247',\n",
       " 'title': 'Cart Balancer (Assessment)',\n",
       " 'num_correct': 1,\n",
       " 'num_incorrect': 0,\n",
       " 'accuracy': 1.0,\n",
       " 'accuracy_group': 3}"
      ]
     },
     "execution_count": 47,
     "metadata": {},
     "output_type": "execute_result"
    }
   ],
   "source": [
    "def extract_game_session(data, idx):\n",
    "    df = data['train_labels.csv']\n",
    "    row = df.iloc[idx, :]\n",
    "    return row.to_dict()\n",
    "\n",
    "gs = extract_game_session(raw_data, 1000)\n",
    "gs"
   ]
  },
  {
   "cell_type": "code",
   "execution_count": 48,
   "metadata": {},
   "outputs": [
    {
     "data": {
      "text/plain": [
       "[{'correct': True,\n",
       "  'left': [{'id': 'gem05', 'weight': 4},\n",
       "   {'id': 'gem01', 'weight': 1},\n",
       "   {'id': 'gem03', 'weight': 3},\n",
       "   {'id': 'gem07', 'weight': 6}],\n",
       "  'right': [{'id': 'gem06', 'weight': 4},\n",
       "   {'id': 'gem02', 'weight': 1},\n",
       "   {'id': 'gem04', 'weight': 3},\n",
       "   {'id': 'gem08', 'weight': 6}],\n",
       "  'event_count': 23,\n",
       "  'game_time': 28667,\n",
       "  'event_code': 4100}]"
      ]
     },
     "execution_count": 48,
     "metadata": {},
     "output_type": "execute_result"
    }
   ],
   "source": [
    "import json\n",
    "\n",
    "def get_event_data(data, game_session_dict):\n",
    "    df = data['train.csv']\n",
    "    sub = df[df.loc[:, 'game_session'] == game_session_dict['game_session']]\n",
    "    if 'Bird Measurer' in game_session_dict['title']:\n",
    "        code = 4110\n",
    "    else:\n",
    "        code = 4100\n",
    "        \n",
    "    out = list(sub[sub.loc[:, 'event_code'] == code].loc[:, 'event_data'])\n",
    "    \n",
    "    return [json.loads(j) for j in out]\n",
    "\n",
    "event_data = get_event_data(raw_data, gs)\n",
    "\n",
    "event_data"
   ]
  },
  {
   "cell_type": "markdown",
   "metadata": {},
   "source": [
    "3: the assessment was solved on the first attempt\n",
    "\n",
    "2: the assessment was solved on the second attempt\n",
    "\n",
    "1: the assessment was solved after 3 or more attempts\n",
    "\n",
    "0: the assessment was never solved"
   ]
  },
  {
   "cell_type": "code",
   "execution_count": 49,
   "metadata": {},
   "outputs": [
    {
     "data": {
      "text/plain": [
       "3"
      ]
     },
     "execution_count": 49,
     "metadata": {},
     "output_type": "execute_result"
    }
   ],
   "source": [
    "def get_accuracy_label(corr, incorr):\n",
    "    corr = sum(corr)\n",
    "    incorr = sum(incorr)\n",
    "    \n",
    "    if corr == 1 and incorr == 0:\n",
    "        return 3\n",
    "    elif corr == 1 and incorr == 1:\n",
    "        return 2\n",
    "    elif corr == 1 and incorr >= 2:\n",
    "        return 1\n",
    "    else:\n",
    "        return 0\n",
    "    \n",
    "def test_get_acc():\n",
    "    corr, incorr = [1], [0]\n",
    "    expected = 3\n",
    "    assert get_accuracy_label(corr, incorr) == expected\n",
    "\n",
    "    corr, incorr = [0], [10]\n",
    "    expected = 0\n",
    "    assert get_accuracy_label(corr, incorr) == expected\n",
    "    \n",
    "test_get_acc()\n",
    "\n",
    "def extract_event_data(events):\n",
    "    corr, incorr = [], []\n",
    "    for event in events:\n",
    "        if event['correct']:\n",
    "            corr.append(1)\n",
    "        else:\n",
    "            incorr.append(1)\n",
    "    return corr, incorr\n",
    "\n",
    "def check_labels(game_session_dict, event_data):\n",
    "    corr, incorr = extract_event_data(event_data)\n",
    "    assert sum(corr) == game_session_dict['num_correct']\n",
    "    assert sum(incorr) == game_session_dict['num_incorrect']\n",
    "    label = get_accuracy_label(corr, incorr)\n",
    "    assert label == game_session_dict['accuracy_group']\n",
    "    \n",
    "    return label\n",
    "    \n",
    "check_labels(gs, event_data)"
   ]
  },
  {
   "cell_type": "code",
   "execution_count": 50,
   "metadata": {},
   "outputs": [],
   "source": [
    "data = []\n",
    "for i in range(5):\n",
    "    gs = extract_game_session(raw_data, i)\n",
    "    out = get_event_data(raw_data, gs)\n",
    "    label = check_labels(gs, out)\n",
    "    \n",
    "    data.append({\n",
    "        'game_session': gs['game_session'],\n",
    "        'label': label\n",
    "    })"
   ]
  },
  {
   "cell_type": "code",
   "execution_count": 51,
   "metadata": {},
   "outputs": [],
   "source": [
    "data = []\n",
    "for row in range(5):\n",
    "    #gs = extract_game_session(raw_data, i)\n",
    "    tr = raw_data['train.csv']\n",
    "    train_row = tr.iloc[row, :]\n",
    "    gs_id = {\n",
    "        'game_session': train_row.loc['game_session'],\n",
    "        'title': train_row.loc['title']\n",
    "    }\n",
    "    \n",
    "    event_data = get_event_data(raw_data, gs_id)\n",
    "    corr, incorr = extract_event_data(event_data)\n",
    "    label = get_accuracy_label(corr, incorr)\n",
    "    #label = check_labels(gs, out)\n",
    "    \n",
    "    data.append({\n",
    "        'game_session': gs['game_session'],\n",
    "        'label': label\n",
    "    })\n",
    "    "
   ]
  },
  {
   "cell_type": "code",
   "execution_count": null,
   "metadata": {},
   "outputs": [],
   "source": [
    "import json\n",
    "\n",
    "json.loads(raw_data['train.csv'].loc[:, 'event_data'].iloc[1000])"
   ]
  },
  {
   "cell_type": "code",
   "execution_count": null,
   "metadata": {},
   "outputs": [],
   "source": [
    "raw_data['sample_submission.csv'].head()"
   ]
  },
  {
   "cell_type": "code",
   "execution_count": null,
   "metadata": {},
   "outputs": [],
   "source": [
    "len(set(raw_data['train_labels.csv'].loc[:, 'installation_id']))"
   ]
  },
  {
   "cell_type": "code",
   "execution_count": null,
   "metadata": {},
   "outputs": [],
   "source": [
    "raw_data['train.csv'].shape"
   ]
  },
  {
   "cell_type": "code",
   "execution_count": null,
   "metadata": {},
   "outputs": [],
   "source": [
    "len(set(raw_data['train.csv'].loc[:, 'game_session']))"
   ]
  },
  {
   "cell_type": "code",
   "execution_count": null,
   "metadata": {},
   "outputs": [],
   "source": [
    "len(set(raw_data['train.csv'].loc[:, 'installation_id']))"
   ]
  },
  {
   "cell_type": "code",
   "execution_count": null,
   "metadata": {},
   "outputs": [],
   "source": [
    "df = raw_data['train_labels.csv']\n",
    "\n",
    "mask = df['accuracy_group'] == 3\n",
    "mask = df.loc[:, 'accuracy_group'] == 3\n",
    "\n",
    "sub = df.loc[mask, :]\n",
    "\n",
    "sub.head()"
   ]
  },
  {
   "cell_type": "code",
   "execution_count": null,
   "metadata": {},
   "outputs": [],
   "source": [
    "set(sub.loc[:, 'num_correct'])"
   ]
  },
  {
   "cell_type": "code",
   "execution_count": null,
   "metadata": {},
   "outputs": [],
   "source": [
    "set(df.loc[:, 'num_correct'])"
   ]
  },
  {
   "cell_type": "code",
   "execution_count": null,
   "metadata": {},
   "outputs": [],
   "source": [
    "df.columns"
   ]
  },
  {
   "cell_type": "code",
   "execution_count": null,
   "metadata": {},
   "outputs": [],
   "source": [
    "df.head()"
   ]
  },
  {
   "cell_type": "code",
   "execution_count": null,
   "metadata": {},
   "outputs": [],
   "source": [
    "# hardness of games"
   ]
  },
  {
   "cell_type": "code",
   "execution_count": null,
   "metadata": {},
   "outputs": [],
   "source": [
    "!pip install seaborn -q\n",
    "import seaborn as sns\n",
    "\n",
    "sns.pairplot(data['train_labels.csv'])"
   ]
  },
  {
   "cell_type": "code",
   "execution_count": null,
   "metadata": {},
   "outputs": [],
   "source": [
    "mask = df['num_correct'] == 1\n",
    "\n",
    "mask"
   ]
  },
  {
   "cell_type": "code",
   "execution_count": null,
   "metadata": {},
   "outputs": [],
   "source": [
    "mask2 = df['num_incorrect'] > 0\n",
    "\n",
    "df.loc[mask & mask2, :].loc[:, 'num_incorrect'].hist()"
   ]
  },
  {
   "cell_type": "code",
   "execution_count": null,
   "metadata": {},
   "outputs": [],
   "source": [
    "max(df.loc[mask & mask2, :].loc[:, 'num_incorrect'])"
   ]
  },
  {
   "cell_type": "code",
   "execution_count": null,
   "metadata": {},
   "outputs": [],
   "source": []
  },
  {
   "cell_type": "code",
   "execution_count": null,
   "metadata": {},
   "outputs": [],
   "source": []
  },
  {
   "cell_type": "code",
   "execution_count": null,
   "metadata": {},
   "outputs": [],
   "source": []
  }
 ],
 "metadata": {
  "kernelspec": {
   "display_name": "Python 3",
   "language": "python",
   "name": "python3"
  },
  "language_info": {
   "codemirror_mode": {
    "name": "ipython",
    "version": 3
   },
   "file_extension": ".py",
   "mimetype": "text/x-python",
   "name": "python",
   "nbconvert_exporter": "python",
   "pygments_lexer": "ipython3",
   "version": "3.6.8"
  }
 },
 "nbformat": 4,
 "nbformat_minor": 4
}
